{
 "cells": [
  {
   "cell_type": "code",
   "execution_count": 185,
   "metadata": {
    "collapsed": false
   },
   "outputs": [],
   "source": [
    "from random import uniform\n",
    "from math import sqrt\n",
    "from time import time\n",
    "import numpy as np\n",
    "from multiprocessing import Pool, TimeoutError\n",
    "import os\n",
    "from ipyparallel import Client"
   ]
  },
  {
   "cell_type": "code",
   "execution_count": null,
   "metadata": {
    "collapsed": false
   },
   "outputs": [],
   "source": []
  },
  {
   "cell_type": "markdown",
   "metadata": {},
   "source": [
    "# Simple Serial"
   ]
  },
  {
   "cell_type": "code",
   "execution_count": 25,
   "metadata": {
    "collapsed": false
   },
   "outputs": [],
   "source": [
    "def pi_approx(number_of_darts):\n",
    "    \n",
    "    start_time = time()\n",
    "    number_of_darts_in_circle = 0\n",
    "\n",
    "    for n in range(number_of_darts):\n",
    "        x, y, = uniform(0, 1), uniform(0,1)\n",
    "        if sqrt((x - 0.5)**2 + (y - 0.5)**2) <= 0.5:\n",
    "            number_of_darts_in_circle += 1\n",
    "    \n",
    "    end_time = time()\n",
    "    execution_time = end_time - start_time\n",
    "    \n",
    "    pi = 4 * number_of_darts_in_circle / float(number_of_darts)\n",
    "    dart_rate = number_of_darts / execution_time\n",
    "    \n",
    "    return(pi, execution_time, dart_rate)"
   ]
  },
  {
   "cell_type": "code",
   "execution_count": 130,
   "metadata": {
    "collapsed": false
   },
   "outputs": [],
   "source": [
    "darts = []\n",
    "times = []\n",
    "rates = []\n",
    "x_plot_points = np.logspace(1,8,100)\n",
    "for i in x_plot_points:\n",
    "    a = pi_approx(int(i))\n",
    "    darts.append(int(i))\n",
    "    times.append(a[1])\n",
    "    rates.append(a[2])"
   ]
  },
  {
   "cell_type": "markdown",
   "metadata": {},
   "source": [
    "# Multiprocessing "
   ]
  },
  {
   "cell_type": "code",
   "execution_count": 129,
   "metadata": {
    "collapsed": false
   },
   "outputs": [],
   "source": [
    "def mini_dart(number):\n",
    "    x, y, = uniform(0, 1), uniform(0,1)\n",
    "    if sqrt((x - 0.5)**2 + (y - 0.5)**2) <= 0.5:\n",
    "        return 1\n",
    "    else:\n",
    "        return 0\n",
    "\n",
    "def pi_approx_pool(number_of_darts):\n",
    "    \n",
    "    pool = Pool(processes = 4)\n",
    "    \n",
    "    start_time = time()\n",
    "    number_of_darts_in_circle = 0\n",
    "    \n",
    "    result = pool.map(mini_dart, range(number_of_darts))\n",
    "    number_of_darts_in_circle = sum(result)\n",
    "    \n",
    "    end_time = time()\n",
    "    execution_time = end_time - start_time\n",
    "    \n",
    "    pi = 4 * number_of_darts_in_circle / float(number_of_darts)\n",
    "    dart_rate = number_of_darts / execution_time\n",
    "    \n",
    "    pool.terminate()\n",
    "    del pool\n",
    "    \n",
    "    return(pi, execution_time, dart_rate)"
   ]
  },
  {
   "cell_type": "code",
   "execution_count": 127,
   "metadata": {
    "collapsed": false
   },
   "outputs": [],
   "source": [
    "darts_pool = []\n",
    "times_pool = []\n",
    "rates_pool = []\n",
    "x_plot_points = np.logspace(1,8,100)\n",
    "for i in x_plot_points:\n",
    "    a = pi_approx_pool(int(i))\n",
    "    darts_pool.append(int(i))\n",
    "    times_pool.append(a[1])\n",
    "    rates_pool.append(a[2])"
   ]
  },
  {
   "cell_type": "markdown",
   "metadata": {},
   "source": [
    "# iPyParallel Module"
   ]
  },
  {
   "cell_type": "code",
   "execution_count": null,
   "metadata": {
    "collapsed": true
   },
   "outputs": [],
   "source": [
    "import ipyparallel as ipp\n",
    "from ipyparallel import Client\n",
    "\n",
    "def pi_approx_par(number_of_darts):\n",
    "    \n",
    "    number_of_darts_in_circle = 0\n",
    "    \n",
    "    rc = Client()\n",
    "    rc.block = True\n",
    "    \n",
    "    start_time = time()\n",
    "    \n",
    "    res = rc[:].map_sync(mini_dart, range(100))\n",
    "    number_of_darts_in_circle = sum(res)\n",
    "    end_time = time() \n",
    "    execution_time = end_time - start_time\n",
    "    pi= 4 * nInCirc / float(number_of_darts)\n",
    "    dart_rate = number_of_darts / execution_time\n",
    "\n",
    "\n",
    "    return(pi, execution_time, dart_rate)"
   ]
  },
  {
   "cell_type": "code",
   "execution_count": 191,
   "metadata": {
    "collapsed": false
   },
   "outputs": [
    {
     "name": "stdout",
     "output_type": "stream",
     "text": [
      "Waiting for connection file: ~/.ipython/profile_default/security/ipcontroller-client.json\n"
     ]
    },
    {
     "ename": "OSError",
     "evalue": "Connection file '~/.ipython/profile_default/security/ipcontroller-client.json' not found.\nYou have attempted to connect to an IPython Cluster but no Controller could be found.\nPlease double-check your configuration and ensure that a cluster is running.",
     "output_type": "error",
     "traceback": [
      "\u001b[0;31m---------------------------------------------------------------------------\u001b[0m",
      "\u001b[0;31mOSError\u001b[0m                                   Traceback (most recent call last)",
      "\u001b[0;32m<ipython-input-191-72a80575ad61>\u001b[0m in \u001b[0;36m<module>\u001b[0;34m()\u001b[0m\n\u001b[1;32m      4\u001b[0m \u001b[0mx_plot_points\u001b[0m \u001b[0;34m=\u001b[0m \u001b[0mnp\u001b[0m\u001b[0;34m.\u001b[0m\u001b[0mlogspace\u001b[0m\u001b[0;34m(\u001b[0m\u001b[0;36m1\u001b[0m\u001b[0;34m,\u001b[0m\u001b[0;36m7\u001b[0m\u001b[0;34m,\u001b[0m\u001b[0;36m100\u001b[0m\u001b[0;34m)\u001b[0m\u001b[0;34m\u001b[0m\u001b[0m\n\u001b[1;32m      5\u001b[0m \u001b[0;32mfor\u001b[0m \u001b[0mi\u001b[0m \u001b[0;32min\u001b[0m \u001b[0mx_plot_points\u001b[0m\u001b[0;34m:\u001b[0m\u001b[0;34m\u001b[0m\u001b[0m\n\u001b[0;32m----> 6\u001b[0;31m     \u001b[0ma\u001b[0m \u001b[0;34m=\u001b[0m \u001b[0mpypar\u001b[0m\u001b[0;34m(\u001b[0m\u001b[0mint\u001b[0m\u001b[0;34m(\u001b[0m\u001b[0mi\u001b[0m\u001b[0;34m)\u001b[0m\u001b[0;34m)\u001b[0m\u001b[0;34m\u001b[0m\u001b[0m\n\u001b[0m\u001b[1;32m      7\u001b[0m     \u001b[0mdarts_par\u001b[0m\u001b[0;34m.\u001b[0m\u001b[0mappend\u001b[0m\u001b[0;34m(\u001b[0m\u001b[0mint\u001b[0m\u001b[0;34m(\u001b[0m\u001b[0mi\u001b[0m\u001b[0;34m)\u001b[0m\u001b[0;34m)\u001b[0m\u001b[0;34m\u001b[0m\u001b[0m\n\u001b[1;32m      8\u001b[0m     \u001b[0mtimes_par\u001b[0m\u001b[0;34m.\u001b[0m\u001b[0mappend\u001b[0m\u001b[0;34m(\u001b[0m\u001b[0ma\u001b[0m\u001b[0;34m[\u001b[0m\u001b[0;36m1\u001b[0m\u001b[0;34m]\u001b[0m\u001b[0;34m)\u001b[0m\u001b[0;34m\u001b[0m\u001b[0m\n",
      "\u001b[0;32m<ipython-input-189-35d9f6681e95>\u001b[0m in \u001b[0;36mpypar\u001b[0;34m(nDarts, nInCirc)\u001b[0m\n\u001b[1;32m      4\u001b[0m \u001b[0;31m# ipyparallel version of pi approximation\u001b[0m\u001b[0;34m\u001b[0m\u001b[0;34m\u001b[0m\u001b[0m\n\u001b[1;32m      5\u001b[0m \u001b[0;32mdef\u001b[0m \u001b[0mpypar\u001b[0m\u001b[0;34m(\u001b[0m\u001b[0mnDarts\u001b[0m\u001b[0;34m,\u001b[0m \u001b[0mnInCirc\u001b[0m \u001b[0;34m=\u001b[0m \u001b[0;36m0\u001b[0m\u001b[0;34m)\u001b[0m\u001b[0;34m:\u001b[0m\u001b[0;34m\u001b[0m\u001b[0m\n\u001b[0;32m----> 6\u001b[0;31m     \u001b[0mrc\u001b[0m \u001b[0;34m=\u001b[0m \u001b[0mClient\u001b[0m\u001b[0;34m(\u001b[0m\u001b[0;34m)\u001b[0m\u001b[0;34m\u001b[0m\u001b[0m\n\u001b[0m\u001b[1;32m      7\u001b[0m     \u001b[0mrc\u001b[0m\u001b[0;34m.\u001b[0m\u001b[0mblock\u001b[0m \u001b[0;34m=\u001b[0m \u001b[0;32mTrue\u001b[0m\u001b[0;34m\u001b[0m\u001b[0m\n\u001b[1;32m      8\u001b[0m     \u001b[0mrc\u001b[0m\u001b[0;34m[\u001b[0m\u001b[0;34m:\u001b[0m\u001b[0;34m]\u001b[0m\u001b[0;34m.\u001b[0m\u001b[0mexecute\u001b[0m\u001b[0;34m(\u001b[0m\u001b[0;34m'from random import uniform'\u001b[0m\u001b[0;34m)\u001b[0m\u001b[0;34m\u001b[0m\u001b[0m\n",
      "\u001b[0;32m/Users/astrouser/.local/lib/python3.5/site-packages/ipyparallel/client/client.py\u001b[0m in \u001b[0;36m__init__\u001b[0;34m(self, url_file, profile, profile_dir, ipython_dir, context, debug, sshserver, sshkey, password, paramiko, timeout, cluster_id, **extra_args)\u001b[0m\n\u001b[1;32m    395\u001b[0m                         \u001b[0mno_file_msg\u001b[0m\u001b[0;34m,\u001b[0m\u001b[0;34m\u001b[0m\u001b[0m\n\u001b[1;32m    396\u001b[0m                     ])\n\u001b[0;32m--> 397\u001b[0;31m                     \u001b[0;32mraise\u001b[0m \u001b[0mIOError\u001b[0m\u001b[0;34m(\u001b[0m\u001b[0mmsg\u001b[0m\u001b[0;34m)\u001b[0m\u001b[0;34m\u001b[0m\u001b[0m\n\u001b[0m\u001b[1;32m    398\u001b[0m         \u001b[0;32mif\u001b[0m \u001b[0murl_file\u001b[0m \u001b[0;32mis\u001b[0m \u001b[0;32mNone\u001b[0m\u001b[0;34m:\u001b[0m\u001b[0;34m\u001b[0m\u001b[0m\n\u001b[1;32m    399\u001b[0m             \u001b[0;32mraise\u001b[0m \u001b[0mIOError\u001b[0m\u001b[0;34m(\u001b[0m\u001b[0mno_file_msg\u001b[0m\u001b[0;34m)\u001b[0m\u001b[0;34m\u001b[0m\u001b[0m\n",
      "\u001b[0;31mOSError\u001b[0m: Connection file '~/.ipython/profile_default/security/ipcontroller-client.json' not found.\nYou have attempted to connect to an IPython Cluster but no Controller could be found.\nPlease double-check your configuration and ensure that a cluster is running."
     ]
    }
   ],
   "source": [
    "darts_par = []\n",
    "times_par = []\n",
    "rates_par = []\n",
    "x_plot_points = np.logspace(1,7,100)\n",
    "for i in x_plot_points:\n",
    "    a = pypar(int(i))\n",
    "    darts_par.append(int(i))\n",
    "    times_par.append(a[1])\n",
    "    rates_par.append(a[2])"
   ]
  },
  {
   "cell_type": "code",
   "execution_count": 41,
   "metadata": {
    "collapsed": false
   },
   "outputs": [],
   "source": [
    "import matplotlib.pyplot as plt\n",
    "%matplotlib inline"
   ]
  },
  {
   "cell_type": "code",
   "execution_count": 164,
   "metadata": {
    "collapsed": false
   },
   "outputs": [
    {
     "data": {
      "text/plain": [
       "<matplotlib.legend.Legend at 0x114d86d30>"
      ]
     },
     "execution_count": 164,
     "metadata": {},
     "output_type": "execute_result"
    },
    {
     "data": {
      "image/png": "[encoded data removed]",
      "text/plain": [
       "<matplotlib.figure.Figure at 0x11243f470>"
      ]
     },
     "metadata": {},
     "output_type": "display_data"
    }
   ],
   "source": [
    "plt.plot(darts, times, 'b', label = 'Simple')\n",
    "plt.plot(darts_pool, times_pool, 'r', label = 'Multi')\n",
    "plt.xlabel(\"Darts Thrown\")\n",
    "plt.ylabel(\"Execution Time (s)\")\n",
    "plt.legend()"
   ]
  },
  {
   "cell_type": "code",
   "execution_count": 172,
   "metadata": {
    "collapsed": false
   },
   "outputs": [
    {
     "data": {
      "text/plain": [
       "<matplotlib.legend.Legend at 0x1158ecda0>"
      ]
     },
     "execution_count": 172,
     "metadata": {},
     "output_type": "execute_result"
    },
    {
     "data": {
      "image/png": "[encoded data removed]",
      "text/plain": [
       "<matplotlib.figure.Figure at 0x1156b3c18>"
      ]
     },
     "metadata": {},
     "output_type": "display_data"
    }
   ],
   "source": [
    "plt.plot(darts, rates, label = 'Simple')\n",
    "plt.plot(darts_pool, rates_pool, label = 'Multi')\n",
    "plt.xlabel(\"Darts Thrown\")\n",
    "plt.ylabel(\"Simulation Date (darts/second)\")\n",
    "plt.legend()"
   ]
  },
  {
   "cell_type": "code",
   "execution_count": null,
   "metadata": {
    "collapsed": false
   },
   "outputs": [],
   "source": []
  },
  {
   "cell_type": "code",
   "execution_count": 189,
   "metadata": {
    "collapsed": false
   },
   "outputs": [],
   "source": []
  },
  {
   "cell_type": "code",
   "execution_count": null,
   "metadata": {
    "collapsed": true
   },
   "outputs": [],
   "source": [
    "import ipyparallel as ipp\n",
    "from ipyparallel import Client\n",
    "\n",
    "# ipyparallel version of pi approximation\n",
    "def pypar(nDarts, nInCirc = 0):\n",
    "    rc = Client()\n",
    "    rc.block = True\n",
    "    rc[:].execute('from random import uniform')\n",
    "    rc[:].execute('from math import sqrt')\n",
    "    startTime = time()\n",
    "    res = rc[:].map_sync(checkDart, range(100))\n",
    "    nInCirc = sum(res)\n",
    "    executionTime = time() - startTime\n",
    "    piApprox = 4 * nInCirc / float(nDarts)\n",
    "    return(piApprox, executionTime, nDarts/executionTime)\n",
    "\n",
    "# find computational time as f'n of nDarts\n",
    "darts = np.logspace(1,7,100)\n",
    "pyparResults = []\n",
    "for d in darts:\n",
    "    pyparResults.append(multi(int(d)))"
   ]
  }
 ],
 "metadata": {
  "kernelspec": {
   "display_name": "Python [Root]",
   "language": "python",
   "name": "Python [Root]"
  },
  "language_info": {
   "codemirror_mode": {
    "name": "ipython",
    "version": 3
   },
   "file_extension": ".py",
   "mimetype": "text/x-python",
   "name": "python",
   "nbconvert_exporter": "python",
   "pygments_lexer": "ipython3",
   "version": "3.5.2"
  }
 },
 "nbformat": 4,
 "nbformat_minor": 0
}
